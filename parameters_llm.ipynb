{
 "cells": [
  {
   "cell_type": "code",
   "execution_count": 83,
   "metadata": {},
   "outputs": [],
   "source": [
    "\n",
    "# llm_type=full ---> for complete architecture\n",
    "# llm_type=enc ---> for encoder only architecture\n",
    "# llm_type=dec ---> for decoder only architecture\n",
    "\n",
    "#parameters with architecture and not during training \n",
    "\n",
    "def llm_parameters(dm,dec_n,enc_n,dff,enc_voc,dec_voc,llm_type:str):\n",
    "\n",
    "    \n",
    "    #encoding layer     2 parameters for layer normalization in MHA, FFN\n",
    "    \n",
    "    #.......encoder embedding.........\n",
    "    enc_emb=enc_voc*dm\n",
    "    #.......multi-head attention..........\n",
    "    enc_mha=(dm+1)*dm*4+2 # for Q, K, V, O ,\n",
    "    #.......feed forward network........\n",
    "    enc_ffn=(dm+1)*dff+(dff+1)*dm+2  \n",
    "    #.......total parameters in encoder layer........\n",
    "    enc_p=enc_emb+enc_n*(enc_mha+enc_ffn)\n",
    "\n",
    "    #decoding layer      2 parameters for layer normalization in masked-MHA, MHA, FFN\n",
    "    #.........decoder embedding...........\n",
    "    dec_emb=dec_voc*dm\n",
    "    #.........masked multi-head attention...........\n",
    "    dec_mmha=(dm+1)*dm*4+2  # for Q, K, V, O\n",
    "    #.........multi-head attention...............\n",
    "    dec_mha=(dm+1)*dm*4+2 # for Q, K, V, O\n",
    "    #.........feed forward network............\n",
    "    dec_ffn=(dm+1)*dff+(dff+1)*dm+2\n",
    "    #.........Final linear layer before softmax output..........\n",
    "    dec_lin=(dm+1)*dec_voc\n",
    "    \n",
    "    parameters=0\n",
    "\n",
    "    if llm_type==\"full\":\n",
    "        parameters=enc_p+dec_emb+(dec_mmha+dec_mha+dec_ffn)*dec_n+dec_lin\n",
    "        print(\"__________________________________________________________________\")\n",
    "        print(\"Layer (type)                Output Shape              Param #     \")\n",
    "        print(\"------------------------------------------------------------------\")\n",
    "        print(\"Encoder                       multiple                \"+str(enc_p))\n",
    "        print(\"Decoder                       multiple                \"+str(parameters-enc_p-dec_lin))\n",
    "        print(\"Dense                         multiple                \"+str(dec_lin))\n",
    "        print(\"__________________________________________________________________\")\n",
    "        print(\"Total parameters=\"+str(parameters)+\" (\"+str((parameters*4)/1e6)+\" MB)\")\n",
    "        print(\"------------------------------------------------------------------\")\n",
    "\n",
    "    if llm_type==\"enc\":\n",
    "        print(\"parameters=\"+str(enc_p))\n",
    "\n",
    "    if llm_type==\"dec\":\n",
    "        parameters=dec_emb+(dec_mmha+dec_ffn)*dec_n+dec_lin\n",
    "        print(\"parameters=\"+str(parameters)+\" (\"+str((parameters*4)/1e6)+\" MB)\")\n",
    "        print(\"percentage for \"+\"embed=\"+str(round(dec_emb*100/parameters,2))+\"% multihead=\"+str(round(dec_mmha*dec_n*100/parameters,2))+\"% FFN=\"+str(round(dec_ffn*dec_n*100/parameters,2))+\"% linear=\"+str(round(dec_lin*100/parameters,2))+\"%\")    \n",
    "    \n"
   ]
  },
  {
   "cell_type": "code",
   "execution_count": 84,
   "metadata": {},
   "outputs": [
    {
     "name": "stdout",
     "output_type": "stream",
     "text": [
      "parameters=175191958993 (700767.835972 MB)\n",
      "percentage for embed=0.35% multihead=33.1% FFN=66.2% linear=0.35%\n"
     ]
    }
   ],
   "source": [
    "dm=12288\n",
    "dec_n=96\n",
    "enc_n=96\n",
    "dff=4*dm\n",
    "enc_voc=8568\n",
    "dec_voc=50257\n",
    "llm_type=\"dec\"\n",
    "\n",
    "llm_parameters(dm,dec_n,enc_n,dff,enc_voc,dec_voc,llm_type)\n"
   ]
  },
  {
   "cell_type": "code",
   "execution_count": 85,
   "metadata": {},
   "outputs": [
    {
     "name": "stdout",
     "output_type": "stream",
     "text": [
      "parameters=13199950777 (52799.803108 MB)\n",
      "percentage for embed=1.96% multihead=32.03% FFN=64.06% linear=1.96%\n"
     ]
    }
   ],
   "source": [
    "dm=5140\n",
    "dec_n=40\n",
    "enc_n=40\n",
    "dff=4*dm\n",
    "enc_voc=8568\n",
    "dec_voc=50257\n",
    "llm_type=\"dec\"\n",
    "\n",
    "llm_parameters(dm,dec_n,enc_n,dff,enc_voc,dec_voc,llm_type)\n"
   ]
  },
  {
   "cell_type": "code",
   "execution_count": 86,
   "metadata": {},
   "outputs": [
    {
     "name": "stdout",
     "output_type": "stream",
     "text": [
      "parameters=6855386321 (27421.545284 MB)\n",
      "percentage for embed=3.0% multihead=31.33% FFN=62.66% linear=3.0%\n"
     ]
    }
   ],
   "source": [
    "dm=4096\n",
    "dec_n=32\n",
    "enc_n=32\n",
    "dff=4*dm\n",
    "enc_voc=8568\n",
    "dec_voc=50257\n",
    "llm_type=\"dec\"\n",
    "\n",
    "llm_parameters(dm,dec_n,enc_n,dff,enc_voc,dec_voc,llm_type)"
   ]
  },
  {
   "cell_type": "code",
   "execution_count": 87,
   "metadata": {},
   "outputs": [
    {
     "name": "stdout",
     "output_type": "stream",
     "text": [
      "parameters=2774685905 (11098.74362 MB)\n",
      "percentage for embed=4.64% multihead=30.24% FFN=60.48% linear=4.64%\n"
     ]
    }
   ],
   "source": [
    "dm=2560\n",
    "dec_n=32\n",
    "enc_n=32\n",
    "dff=4*dm\n",
    "enc_voc=8568\n",
    "dec_voc=50257\n",
    "llm_type=\"dec\"\n",
    "\n",
    "llm_parameters(dm,dec_n,enc_n,dff,enc_voc,dec_voc,llm_type)"
   ]
  },
  {
   "cell_type": "code",
   "execution_count": 88,
   "metadata": {},
   "outputs": [
    {
     "name": "stdout",
     "output_type": "stream",
     "text": [
      "parameters=1414304945 (5657.21978 MB)\n",
      "percentage for embed=7.28% multihead=28.48% FFN=56.96% linear=7.28%\n"
     ]
    }
   ],
   "source": [
    "dm=2048\n",
    "dec_n=24\n",
    "enc_n=24\n",
    "dff=4*dm\n",
    "enc_voc=8568\n",
    "dec_voc=50257\n",
    "llm_type=\"dec\"\n",
    "\n",
    "llm_parameters(dm,dec_n,enc_n,dff,enc_voc,dec_voc,llm_type)"
   ]
  },
  {
   "cell_type": "code",
   "execution_count": 89,
   "metadata": {},
   "outputs": [
    {
     "name": "stdout",
     "output_type": "stream",
     "text": [
      "parameters=834248881 (3336.995524 MB)\n",
      "percentage for embed=9.25% multihead=27.17% FFN=54.32% linear=9.26%\n"
     ]
    }
   ],
   "source": [
    "dm=1536\n",
    "dec_n=24\n",
    "enc_n=24\n",
    "dff=4*dm\n",
    "enc_voc=8568\n",
    "dec_voc=50257\n",
    "llm_type=\"dec\"\n",
    "\n",
    "llm_parameters(dm,dec_n,enc_n,dff,enc_voc,dec_voc,llm_type)"
   ]
  },
  {
   "cell_type": "code",
   "execution_count": 90,
   "metadata": {},
   "outputs": [
    {
     "name": "stdout",
     "output_type": "stream",
     "text": [
      "parameters=405187761 (1620.751044 MB)\n",
      "percentage for embed=12.7% multihead=24.87% FFN=49.72% linear=12.71%\n"
     ]
    }
   ],
   "source": [
    "dm=1024\n",
    "dec_n=24\n",
    "enc_n=24\n",
    "dff=4*dm\n",
    "enc_voc=8568\n",
    "dec_voc=50257\n",
    "llm_type=\"dec\"\n",
    "\n",
    "llm_parameters(dm,dec_n,enc_n,dff,enc_voc,dec_voc,llm_type)"
   ]
  },
  {
   "cell_type": "code",
   "execution_count": 91,
   "metadata": {},
   "outputs": [
    {
     "name": "stdout",
     "output_type": "stream",
     "text": [
      "parameters=162262657 (649.050628 MB)\n",
      "percentage for embed=23.79% multihead=17.47% FFN=34.92% linear=23.82%\n"
     ]
    }
   ],
   "source": [
    "dm=768\n",
    "dec_n=12\n",
    "enc_n=12\n",
    "dff=4*dm\n",
    "enc_voc=8568\n",
    "dec_voc=50257\n",
    "llm_type=\"dec\"\n",
    "\n",
    "llm_parameters(dm,dec_n,enc_n,dff,enc_voc,dec_voc,llm_type)"
   ]
  },
  {
   "cell_type": "markdown",
   "metadata": {},
   "source": [
    "percentage for embed=0.35% multihead=33.1% FFN=66.2% linear=0.35%\n",
    "percentage for embed=1.96% multihead=32.03% FFN=64.06% linear=1.96%\n",
    "percentage for embed=3.0% multihead=31.33% FFN=62.66% linear=3.0%\n",
    "percentage for embed=4.64% multihead=30.24% FFN=60.48% linear=4.64%\n",
    "percentage for embed=7.28% multihead=28.48% FFN=56.96% linear=7.28%\n",
    "percentage for embed=9.25% multihead=27.17% FFN=54.32% linear=9.26%\n",
    "percentage for embed=12.7% multihead=24.87% FFN=49.72% linear=12.71%\n",
    "percentage for embed=23.79% multihead=17.47% FFN=34.92% linear=23.82%"
   ]
  },
  {
   "cell_type": "code",
   "execution_count": null,
   "metadata": {},
   "outputs": [],
   "source": [
    "percentage for embed=0.35% multihead=33.1% FFN=66.2% linear=0.35%\n",
    "percentage for embed=1.96% multihead=32.03% FFN=64.06% linear=1.96%\n",
    "percentage for embed=3.0% multihead=31.33% FFN=62.66% linear=3.0%\n",
    "percentage for embed=4.64% multihead=30.24% FFN=60.48% linear=4.64%\n",
    "percentage for embed=7.28% multihead=28.48% FFN=56.96% linear=7.28%\n",
    "percentage for embed=9.25% multihead=27.17% FFN=54.32% linear=9.26%\n",
    "percentage for embed=12.7% multihead=24.87% FFN=49.72% linear=12.71%\n",
    "percentage for embed=23.79% multihead=17.47% FFN=34.92% linear=23.82%"
   ]
  }
 ],
 "metadata": {
  "kernelspec": {
   "display_name": "Python 3",
   "language": "python",
   "name": "python3"
  },
  "language_info": {
   "codemirror_mode": {
    "name": "ipython",
    "version": 3
   },
   "file_extension": ".py",
   "mimetype": "text/x-python",
   "name": "python",
   "nbconvert_exporter": "python",
   "pygments_lexer": "ipython3",
   "version": "3.10.14"
  }
 },
 "nbformat": 4,
 "nbformat_minor": 2
}
